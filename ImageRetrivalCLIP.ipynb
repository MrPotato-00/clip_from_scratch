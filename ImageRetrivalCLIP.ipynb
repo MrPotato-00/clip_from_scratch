{
 "cells": [
  {
   "cell_type": "code",
   "execution_count": 1,
   "id": "b183abed-df27-423b-a31e-a5484c3498e8",
   "metadata": {},
   "outputs": [],
   "source": [
    "import torch\n",
    "import torch.nn as nn\n",
    "import torchvision.transforms as T\n",
    "from torch.utils.data import Dataset, DataLoader\n",
    "import numpy as np\n",
    "import matplotlib.pyplot as plt\n",
    "from torchvision.datasets import FashionMNIST"
   ]
  },
  {
   "cell_type": "code",
   "execution_count": 2,
   "id": "6386135c-2fc4-4453-a0da-74d26e24d9e4",
   "metadata": {},
   "outputs": [],
   "source": [
    "# text encoding\n",
    "class InputEmbedding(nn.Module):\n",
    "    def __init__(self, d_model, vocab_size):\n",
    "        super(InputEmbedding, self).__init__()\n",
    "        self.embedding= nn.Embedding(vocab_size, d_model)\n",
    "\n",
    "    def forward(self, x):\n",
    "        return self.embedding(x)\n",
    "\n",
    "class ImagePatching(nn.Module):\n",
    "    def __init__(self, image_size, patch_size, in_channels, embed_dim):\n",
    "        super(ImagePatching, self).__init__()\n",
    "        self.projection= nn.Conv2d(in_channels, embed_dim, kernel_size= patch_size, stride= patch_size)\n",
    "    \n",
    "    ## what transformation happens here:\n",
    "    ## lets say we pass an input image batch of shape: [batch_size, input_channels, Height, Width]\n",
    "    ## then finally transforms it into: [batch_size, (image_size//patch_size)**2, d_model]\n",
    "    def forward(self, x): \n",
    "        x= self.projection(x) \n",
    "        x= x.flatten(2)\n",
    "        return x.transpose(-2, -1) \n",
    "\n",
    "class PositionalEncoding(nn.Module):\n",
    "    def __init__(self, d_model, max_len, dropout):\n",
    "        super(PositionalEncoding, self).__init__()\n",
    "\n",
    "        pe= torch.zeros(max_len, d_model)\n",
    "\n",
    "        for i in range(max_len):\n",
    "            for j in range(d_model):\n",
    "                if j%2==0:\n",
    "                    pe[i][j]= np.sin(i/ (10000** (j/d_model)))\n",
    "                else:\n",
    "                    pe[i][j]= np.cos(i/(10000** ((j-1)/d_model)))\n",
    "        self.register_buffer(\"pe\", pe.unsqueeze(0))\n",
    "\n",
    "        self.dropout= nn.Dropout(dropout)\n",
    "    def forward(self, x):\n",
    "        x= x+ self.pe\n",
    "        return x"
   ]
  },
  {
   "cell_type": "code",
   "execution_count": 3,
   "id": "4f96245c-949b-42b3-aedb-9a9d71e24e8b",
   "metadata": {},
   "outputs": [],
   "source": [
    "class AttentionHead(nn.Module):\n",
    "    def __init__(self, embed_dim, head_size):\n",
    "        super(AttentionHead, self).__init__()\n",
    "        self.head_size= head_size\n",
    "        self.query= nn.Linear(embed_dim, head_size)\n",
    "        self.key= nn.Linear(embed_dim, head_size)\n",
    "        self.value= nn.Linear(embed_dim, head_size)\n",
    "\n",
    "    def forward(self, x, mask=None):\n",
    "        Q= self.query(x)\n",
    "        K= self.key(x)\n",
    "        V= self.value(x)\n",
    "\n",
    "        attention= Q@K.transpose(-2, -1)\n",
    "        attention= attention/(self.head_size**0.5)\n",
    "\n",
    "        if mask is not None:\n",
    "            attention= attention.masked_fill(mask==0, float(\"-inf\"))\n",
    "        attention= torch.softmax(attention, dim=-1)\n",
    "\n",
    "        attention= attention@V\n",
    "        return attention\n",
    "        "
   ]
  },
  {
   "cell_type": "code",
   "execution_count": 4,
   "id": "c79323de-bdb5-46ab-b771-1cdafb654c7d",
   "metadata": {},
   "outputs": [],
   "source": [
    "class MultiHeadAttention(nn.Module):\n",
    "    def __init__(self, embed_dim, nheads):\n",
    "        super().__init__()\n",
    "        self.head_size= embed_dim//nheads\n",
    "        self.W_o= nn.Linear(embed_dim, embed_dim)\n",
    "        self.attentionblocks= nn.ModuleList([AttentionHead(embed_dim, self.head_size) for _ in range(nheads)])\n",
    "\n",
    "    def forward(self, x, mask= None):\n",
    "        out= torch.cat([head(x, mask) for head in self.attentionblocks] ,dim =-1)\n",
    "        out= self.W_o(out)\n",
    "        return out"
   ]
  },
  {
   "cell_type": "code",
   "execution_count": 5,
   "id": "eb296a86-d545-459c-8477-b8f6584fddcd",
   "metadata": {},
   "outputs": [],
   "source": [
    "class TransformerEncoder(nn.Module):\n",
    "    def __init__(self, d_model, nheads, r_mlp=4):\n",
    "        super().__init__()\n",
    "        self.norm1= nn.LayerNorm(d_model)\n",
    "        self.mha= MultiHeadAttention(d_model, nheads)\n",
    "        self.mlp= nn.Sequential(\n",
    "            nn.Linear(d_model, d_model*r_mlp),\n",
    "            nn.GELU(),\n",
    "            nn.Linear(d_model* r_mlp, d_model)\n",
    "        )\n",
    "        self.norm2= nn.LayerNorm(d_model)\n",
    "\n",
    "    def forward(self, x, mask=None):\n",
    "        x= x+ self.mha(self.norm1(x), mask)\n",
    "        x= x+ self.mlp(self.norm2(x))\n",
    "        return x"
   ]
  },
  {
   "cell_type": "code",
   "execution_count": 6,
   "id": "27ed025b-a1a2-47ac-9d26-84eec541f3af",
   "metadata": {},
   "outputs": [],
   "source": [
    "class ImageEncoder(nn.Module):\n",
    "    def __init__(self, width, image_size, patch_size, in_channels, n_layers,nheads, embed_dim, dropout=0.1):\n",
    "        super(ImageEncoder, self).__init__()\n",
    "        assert (image_size[0] % patch_size[0]==0) and (image_size[1] % patch_size[1]==0), \"image_size dim shall be divisible by patchsize\"\n",
    "        assert width%nheads==0, \"width shall be divisible by nheads\"\n",
    "        \n",
    "        self.image_embedding= ImagePatching(image_size, patch_size, in_channels, width)\n",
    "        self.npatches= (image_size[0]*image_size[1]) // (patch_size[0]*patch_size[1])\n",
    "        self.cls_token= nn.Parameter(torch.randn(1,1, width))\n",
    "\n",
    "        self.positional_embedding= PositionalEncoding(width, self.npatches+1, dropout)\n",
    "        self.encoder= nn.ModuleList([TransformerEncoder(width, nheads) for _ in range(n_layers)])\n",
    "\n",
    "        self.projection= nn.Parameter(torch.randn(width ,embed_dim))\n",
    "\n",
    "    def forward(self, x):\n",
    "        x= self.image_embedding(x)\n",
    "        #print(x.shape, self.cls_token.shape)\n",
    "        x= torch.cat([self.cls_token.expand(x.size()[0], -1, -1), x], dim=1)\n",
    "        x= self.positional_embedding(x)\n",
    "\n",
    "        for encoder in self.encoder:\n",
    "            x= encoder(x)\n",
    "\n",
    "        x= x[:, 0, :]\n",
    "\n",
    "        if self.projection is not None:\n",
    "            x= x@self.projection\n",
    "\n",
    "        x= x/torch.norm(x, dim=-1, keepdim=True)\n",
    "        return x"
   ]
  },
  {
   "cell_type": "code",
   "execution_count": 7,
   "id": "182ac609-974a-4a88-a307-56abc60c5bf3",
   "metadata": {},
   "outputs": [],
   "source": [
    "class TextEncoder(nn.Module):\n",
    "    def __init__(self, vocab_size, width, max_seq_length, n_heads, n_layers, emb_dim):\n",
    "        super().__init__()\n",
    "\n",
    "        self.max_seq_length = max_seq_length\n",
    "\n",
    "        self.encoder_embedding = nn.Embedding(vocab_size, width)\n",
    "\n",
    "        self.positional_embedding = PositionalEncoding(width, max_seq_length, 0.1)\n",
    "\n",
    "        self.encoder = nn.ModuleList([TransformerEncoder(width,n_heads) for _ in range(n_layers)])\n",
    "\n",
    "        # learned proj of image to embed\n",
    "        self.projection = nn.Parameter(torch.randn(width, emb_dim))\n",
    "\n",
    "    def forward(self, text, mask=None):\n",
    "        # Text Embedding\n",
    "        x = self.encoder_embedding(text)\n",
    "\n",
    "        # Positional Embedding\n",
    "        x = self.positional_embedding(x)\n",
    "\n",
    "        # Transformer Encoder\n",
    "        for encoder_layer in self.encoder:\n",
    "            x = encoder_layer(x, mask=mask)\n",
    "\n",
    "        # Takes features from the EOT Embedding\n",
    "        x = x[torch.arange(text.shape[0]), torch.sub(torch.sum(mask[:,0],dim=1),1)]\n",
    "\n",
    "        # joint multimodal embedding\n",
    "        if self.projection is not None:\n",
    "            x = x @ self.projection\n",
    "\n",
    "        x = x / torch.norm(x, dim=-1, keepdim=True)\n",
    "\n",
    "        return x"
   ]
  },
  {
   "cell_type": "code",
   "execution_count": 8,
   "id": "e70e597c-bd18-4ca2-97b0-39f4aa7edd04",
   "metadata": {},
   "outputs": [],
   "source": []
  },
  {
   "cell_type": "code",
   "execution_count": 22,
   "id": "54c6b1aa-202e-41d2-98b8-4af43b860df4",
   "metadata": {},
   "outputs": [],
   "source": [
    "# model\n",
    "\n",
    "class CLIP(nn.Module):\n",
    "    def __init__(self, emb_dim, vit_width, img_size, patch_size, n_channels, vit_layers, vit_heads, vocab_size, text_width, max_seq_length, text_heads, text_layers):\n",
    "        super().__init__()\n",
    "\n",
    "        self.image_encoder = ImageEncoder(vit_width, img_size, patch_size, n_channels, vit_layers, vit_heads, emb_dim)\n",
    "        \n",
    "        self.text_encoder = TextEncoder(vocab_size, text_width, max_seq_length, text_heads, text_layers, emb_dim)\n",
    "        self.temperature = nn.Parameter(torch.ones([]) * np.log(1/0.07))\n",
    "        self.device= torch.device(\"cuda\" if torch.cuda.is_available() else \"cpu\")\n",
    "\n",
    "    def forward(self, image,text, mask=None):\n",
    "        i_encode= self.image_encoder(image)\n",
    "        t_encode= self.text_encoder(text, mask)\n",
    "        #print(i_encode.shape, t_encode.shape)\n",
    "        logits= (i_encode @ t_encode.T)/ torch.exp(self.temperature)\n",
    "        #labels= torch.arange(logits.shape[0]).to(self.device)\n",
    "\n",
    "        return logits\n",
    "\n",
    "        #loss_i= nn.functional.cross_entropy(logits, labels)\n",
    "        #loss_t= nn.functional.cross_entropy(logits.transpose(-2, -1), labels)\n",
    "\n",
    "        #loss= (loss_i+loss_t)/2\n",
    "        #return loss\n",
    "        "
   ]
  },
  {
   "cell_type": "code",
   "execution_count": 11,
   "id": "aa8dd6eb-93db-456a-8c19-c8d50ade72a1",
   "metadata": {},
   "outputs": [],
   "source": [
    "def tokenizer(text, encode=True, mask=None, max_seq_length=32):\n",
    "    if encode:\n",
    "        out = chr(2) + text + chr(3) # Adding SOT and EOT tokens\n",
    "        out = out + \"\".join([chr(0) for _ in range(max_seq_length-len(out))]) # Adding Padding\n",
    "        out = torch.IntTensor(list(out.encode(\"utf-8\"))) # Encoding Text\n",
    "        mask = torch.ones(len(out.nonzero()))\n",
    "        mask = torch.cat((mask,torch.zeros(max_seq_length-len(mask)))).type(torch.IntTensor)\n",
    "    else:\n",
    "        out = [chr(x) for x in text[1:len(mask.nonzero())-1]]\n",
    "        out = \"\".join(out)\n",
    "        mask = None\n",
    "\n",
    "    return out, mask "
   ]
  },
  {
   "cell_type": "code",
   "execution_count": 15,
   "id": "7c50f64b-9419-4a70-a51b-0a5d92d6d2ad",
   "metadata": {},
   "outputs": [],
   "source": [
    "class PrepareDS(Dataset):\n",
    "    def __init__(self, img_size, train=True):\n",
    "        #self.dataset = load_dataset(\"fashion_mnist\")\n",
    "        \n",
    "        self.transform= T.Compose([T.Resize(img_size), \n",
    "                                   T.ToTensor()\n",
    "                        ])\n",
    "        self.dataset= FashionMNIST(\n",
    "            root='./data', \n",
    "            train=train, \n",
    "            download=True\n",
    "        )\n",
    "        if train:\n",
    "            self.split=\"train\"\n",
    "        else:\n",
    "            self.split= \"test\"\n",
    "\n",
    "        self.captions = {0: \"An image of a t-shirt/top\",\n",
    "                        1: \"An image of trousers\",\n",
    "                        2: \"An image of a pullover\",\n",
    "                        3: \"An image of a dress\",\n",
    "                        4: \"An image of a coat\",\n",
    "                        5: \"An image of a sandal\",\n",
    "                        6: \"An image of a shirt\",\n",
    "                        7: \"An image of a sneaker\",\n",
    "                        8: \"An image of a bag\",\n",
    "                        9: \"An image of an ankle boot\"}\n",
    "\n",
    "    def __len__(self):\n",
    "        return len(self.dataset)\n",
    "\n",
    "    def __getitem__(self, idx):\n",
    "        img= self.dataset[idx][0]\n",
    "        \n",
    "        img= self.transform(img)\n",
    "\n",
    "        cap, mask= tokenizer(self.captions[self.dataset[idx][1]])\n",
    "        mask= mask.repeat(len(mask), 1)\n",
    "\n",
    "        return {\"image\": img, \"caption\": cap, \"mask\":mask}"
   ]
  },
  {
   "cell_type": "code",
   "execution_count": 16,
   "id": "d2c88098-8c24-4923-aac0-2d55bf6a797c",
   "metadata": {},
   "outputs": [],
   "source": [
    "emb_dim = 32\n",
    "vit_width = 9\n",
    "img_size = (28,28)\n",
    "patch_size = (14,14)\n",
    "n_channels = 1\n",
    "vit_layers = 3\n",
    "vit_heads = 3\n",
    "vocab_size = 256\n",
    "text_width = 32\n",
    "max_seq_length = 32\n",
    "text_heads = 8\n",
    "text_layers = 4\n",
    "lr = 1e-3\n",
    "epochs = 10\n",
    "batch_size = 128\n"
   ]
  },
  {
   "cell_type": "code",
   "execution_count": 17,
   "id": "8ae3e4f3-b97d-46b2-b3ba-4e0883e4764c",
   "metadata": {},
   "outputs": [],
   "source": [
    "train_set= PrepareDS(img_size, train=True)\n",
    "test_set= PrepareDS(img_size, train=False)\n",
    "\n",
    "train_dataloader= DataLoader(train_set, shuffle=True, batch_size= batch_size)\n",
    "test_dataloader= DataLoader(test_set, shuffle=False, batch_size= 32)"
   ]
  },
  {
   "cell_type": "code",
   "execution_count": 55,
   "id": "f0b4eb77-49d8-4c83-bc5c-5badffe6b2d1",
   "metadata": {},
   "outputs": [
    {
     "name": "stdout",
     "output_type": "stream",
     "text": [
      "Using device:  cuda (NVIDIA GeForce GTX 1650)\n"
     ]
    },
    {
     "name": "stderr",
     "output_type": "stream",
     "text": [
      "100%|█████████████████████████████████████████| 469/469 [00:27<00:00, 17.12it/s]\n"
     ]
    },
    {
     "name": "stdout",
     "output_type": "stream",
     "text": [
      "Epoch [1/10], Batch Loss: 4.453\n",
      "Model Saved.\n"
     ]
    },
    {
     "name": "stderr",
     "output_type": "stream",
     "text": [
      "100%|█████████████████████████████████████████| 469/469 [00:28<00:00, 16.37it/s]\n"
     ]
    },
    {
     "name": "stdout",
     "output_type": "stream",
     "text": [
      "Epoch [2/10], Batch Loss: 4.366\n",
      "Model Saved.\n"
     ]
    },
    {
     "name": "stderr",
     "output_type": "stream",
     "text": [
      "100%|█████████████████████████████████████████| 469/469 [00:29<00:00, 15.66it/s]\n"
     ]
    },
    {
     "name": "stdout",
     "output_type": "stream",
     "text": [
      "Epoch [3/10], Batch Loss: 4.132\n",
      "Model Saved.\n"
     ]
    },
    {
     "name": "stderr",
     "output_type": "stream",
     "text": [
      "100%|█████████████████████████████████████████| 469/469 [00:29<00:00, 15.80it/s]\n"
     ]
    },
    {
     "name": "stdout",
     "output_type": "stream",
     "text": [
      "Epoch [4/10], Batch Loss: 3.775\n",
      "Model Saved.\n"
     ]
    },
    {
     "name": "stderr",
     "output_type": "stream",
     "text": [
      "100%|█████████████████████████████████████████| 469/469 [00:29<00:00, 15.77it/s]\n"
     ]
    },
    {
     "name": "stdout",
     "output_type": "stream",
     "text": [
      "Epoch [5/10], Batch Loss: 3.362\n",
      "Model Saved.\n"
     ]
    },
    {
     "name": "stderr",
     "output_type": "stream",
     "text": [
      "100%|█████████████████████████████████████████| 469/469 [00:29<00:00, 15.81it/s]\n"
     ]
    },
    {
     "name": "stdout",
     "output_type": "stream",
     "text": [
      "Epoch [6/10], Batch Loss: 2.855\n",
      "Model Saved.\n"
     ]
    },
    {
     "name": "stderr",
     "output_type": "stream",
     "text": [
      "100%|█████████████████████████████████████████| 469/469 [00:29<00:00, 15.76it/s]\n"
     ]
    },
    {
     "name": "stdout",
     "output_type": "stream",
     "text": [
      "Epoch [7/10], Batch Loss: 2.773\n",
      "Model Saved.\n"
     ]
    },
    {
     "name": "stderr",
     "output_type": "stream",
     "text": [
      "100%|█████████████████████████████████████████| 469/469 [00:29<00:00, 15.74it/s]\n"
     ]
    },
    {
     "name": "stdout",
     "output_type": "stream",
     "text": [
      "Epoch [8/10], Batch Loss: 2.772\n",
      "Model Saved.\n"
     ]
    },
    {
     "name": "stderr",
     "output_type": "stream",
     "text": [
      "100%|█████████████████████████████████████████| 469/469 [00:29<00:00, 15.88it/s]\n"
     ]
    },
    {
     "name": "stdout",
     "output_type": "stream",
     "text": [
      "Epoch [9/10], Batch Loss: 2.584\n",
      "Model Saved.\n"
     ]
    },
    {
     "name": "stderr",
     "output_type": "stream",
     "text": [
      "100%|█████████████████████████████████████████| 469/469 [00:30<00:00, 15.58it/s]"
     ]
    },
    {
     "name": "stdout",
     "output_type": "stream",
     "text": [
      "Epoch [10/10], Batch Loss: 2.787\n"
     ]
    },
    {
     "name": "stderr",
     "output_type": "stream",
     "text": [
      "\n"
     ]
    }
   ],
   "source": [
    "device = torch.device(\"cuda\" if torch.cuda.is_available() else \"cpu\")\n",
    "print(\"Using device: \", device, f\"({torch.cuda.get_device_name(device)})\" if torch.cuda.is_available() else \"\")\n",
    "\n",
    "model = CLIP(emb_dim, vit_width, img_size, patch_size, n_channels, vit_layers, vit_heads, vocab_size, text_width, max_seq_length, text_heads, text_layers).to(device)\n",
    "\n",
    "optimizer = torch.optim.Adam(model.parameters(), lr=lr)\n",
    "from tqdm import tqdm\n",
    "\n",
    "best_loss = np.inf\n",
    "for epoch in range(epochs):\n",
    "    model.train()\n",
    "    for data in tqdm(train_dataloader):\n",
    "        img, cap, mask = data[\"image\"].to(device), data[\"caption\"].to(device), data[\"mask\"].to(device)\n",
    "        logits= model(img,cap,mask)\n",
    "        #labels_image= torch.arange(logits.shape[0]).to(device)\n",
    "        labels_text= torch.arange(logits.shape[1]).to(device)\n",
    "        image_to_text= nn.functional.cross_entropy(logits, labels_text)\n",
    "        text_to_image= nn.functional.cross_entropy(logits.transpose(-2, -1), labels_text)\n",
    "        loss= (image_to_text + text_to_image)/2\n",
    "        optimizer.zero_grad()\n",
    "        loss.backward()\n",
    "        optimizer.step()\n",
    "\n",
    "    print(f\"Epoch [{epoch+1}/{epochs}], Batch Loss: {loss.item():.3f}\")\n",
    "\n",
    "    # Saves model if it performed better than the previous best\n",
    "    if loss.item() <= best_loss:\n",
    "        best_loss = loss.item()\n",
    "        torch.save(model.state_dict(), \"clip.pt\")\n",
    "        print(\"Model Saved.\")"
   ]
  },
  {
   "cell_type": "code",
   "execution_count": 214,
   "id": "fab005c0-2a95-4569-99e1-71b4f1f41b17",
   "metadata": {},
   "outputs": [
    {
     "data": {
      "text/plain": [
       "torch.Size([128, 4, 32])"
      ]
     },
     "execution_count": 214,
     "metadata": {},
     "output_type": "execute_result"
    }
   ],
   "source": [
    "batch= next(iter(train_dataloader))\n",
    "\n",
    "s= batch[\"image\"]\n",
    "image_embedding= ImageEmbedding(1, (28, 28),(14, 14), 32)\n",
    "image_= image_embedding(s)\n",
    "image_.shape"
   ]
  },
  {
   "cell_type": "code",
   "execution_count": 301,
   "id": "e455a374-5e34-4098-b18d-7f02091cce08",
   "metadata": {},
   "outputs": [
    {
     "name": "stdout",
     "output_type": "stream",
     "text": [
      "<class 'int'>\n"
     ]
    }
   ],
   "source": [
    "print(type(test_set[0][\"index\"]))"
   ]
  },
  {
   "cell_type": "code",
   "execution_count": 126,
   "id": "c2857f02-1352-4497-af26-d464f3cc1b4d",
   "metadata": {},
   "outputs": [],
   "source": [
    "cls_token= torch.cat([torch.randn(1,1,32).expand(image_.size()[0], -1, -1),image_], dim=1)"
   ]
  },
  {
   "cell_type": "code",
   "execution_count": 128,
   "id": "61bd5513-cd73-4fec-834e-a6000fcaf207",
   "metadata": {},
   "outputs": [
    {
     "data": {
      "text/plain": [
       "torch.Size([128, 5, 32])"
      ]
     },
     "execution_count": 128,
     "metadata": {},
     "output_type": "execute_result"
    }
   ],
   "source": [
    "cls_token.shape"
   ]
  },
  {
   "cell_type": "code",
   "execution_count": 33,
   "id": "1a737696-dc3e-4149-8639-25617d490ae4",
   "metadata": {},
   "outputs": [],
   "source": [
    "\n"
   ]
  },
  {
   "cell_type": "code",
   "execution_count": 29,
   "id": "0405d02f-f858-4acf-9b18-2c4e7df3dfa0",
   "metadata": {},
   "outputs": [
    {
     "data": {
      "text/plain": [
       "tensor([[False, False, False],\n",
       "        [ True, False,  True]])"
      ]
     },
     "execution_count": 29,
     "metadata": {},
     "output_type": "execute_result"
    }
   ],
   "source": [
    "a= torch.tensor([[1, 1, 0], \n",
    "                 [1, 2, 1]])\n",
    "\n",
    "b= torch.tensor([[0, 2, 1], \n",
    "                 [1, 1, 1]])\n",
    "\n",
    "torch.eq(a, b)"
   ]
  },
  {
   "cell_type": "code",
   "execution_count": 64,
   "id": "fb60d4cc-f397-46c6-b0bf-7ce72f7ba58c",
   "metadata": {},
   "outputs": [
    {
     "name": "stderr",
     "output_type": "stream",
     "text": [
      "  1%|▌                                          | 4/313 [00:00<00:19, 16.22it/s]"
     ]
    },
    {
     "name": "stdout",
     "output_type": "stream",
     "text": [
      "Pred and label: torch.Size([32, 32]), torch.Size([32, 32])\n",
      "Pred and label: torch.Size([32, 32]), torch.Size([32, 32])\n",
      "Pred and label: torch.Size([32, 32]), torch.Size([32, 32])\n",
      "Pred and label: torch.Size([32, 32]), torch.Size([32, 32])\n"
     ]
    },
    {
     "name": "stderr",
     "output_type": "stream",
     "text": [
      "  3%|█                                          | 8/313 [00:00<00:17, 17.81it/s]"
     ]
    },
    {
     "name": "stdout",
     "output_type": "stream",
     "text": [
      "Pred and label: torch.Size([32, 32]), torch.Size([32, 32])\n",
      "Pred and label: torch.Size([32, 32]), torch.Size([32, 32])\n",
      "Pred and label: torch.Size([32, 32]), torch.Size([32, 32])\n",
      "Pred and label: torch.Size([32, 32]), torch.Size([32, 32])\n"
     ]
    },
    {
     "name": "stderr",
     "output_type": "stream",
     "text": [
      "  4%|█▌                                        | 12/313 [00:00<00:16, 18.30it/s]"
     ]
    },
    {
     "name": "stdout",
     "output_type": "stream",
     "text": [
      "Pred and label: torch.Size([32, 32]), torch.Size([32, 32])\n",
      "Pred and label: torch.Size([32, 32]), torch.Size([32, 32])\n",
      "Pred and label: torch.Size([32, 32]), torch.Size([32, 32])\n",
      "Pred and label: torch.Size([32, 32]), torch.Size([32, 32])\n"
     ]
    },
    {
     "name": "stderr",
     "output_type": "stream",
     "text": [
      "  5%|██▏                                       | 16/313 [00:00<00:16, 18.50it/s]"
     ]
    },
    {
     "name": "stdout",
     "output_type": "stream",
     "text": [
      "Pred and label: torch.Size([32, 32]), torch.Size([32, 32])\n",
      "Pred and label: torch.Size([32, 32]), torch.Size([32, 32])\n",
      "Pred and label: torch.Size([32, 32]), torch.Size([32, 32])\n",
      "Pred and label: torch.Size([32, 32]), torch.Size([32, 32])\n"
     ]
    },
    {
     "name": "stderr",
     "output_type": "stream",
     "text": [
      "  6%|██▋                                       | 20/313 [00:01<00:15, 18.61it/s]"
     ]
    },
    {
     "name": "stdout",
     "output_type": "stream",
     "text": [
      "Pred and label: torch.Size([32, 32]), torch.Size([32, 32])\n",
      "Pred and label: torch.Size([32, 32]), torch.Size([32, 32])\n",
      "Pred and label: torch.Size([32, 32]), torch.Size([32, 32])\n",
      "Pred and label: torch.Size([32, 32]), torch.Size([32, 32])\n"
     ]
    },
    {
     "name": "stderr",
     "output_type": "stream",
     "text": [
      "  8%|███▏                                      | 24/313 [00:01<00:15, 18.56it/s]"
     ]
    },
    {
     "name": "stdout",
     "output_type": "stream",
     "text": [
      "Pred and label: torch.Size([32, 32]), torch.Size([32, 32])\n",
      "Pred and label: torch.Size([32, 32]), torch.Size([32, 32])\n",
      "Pred and label: torch.Size([32, 32]), torch.Size([32, 32])\n",
      "Pred and label: torch.Size([32, 32]), torch.Size([32, 32])\n"
     ]
    },
    {
     "name": "stderr",
     "output_type": "stream",
     "text": [
      "  9%|███▊                                      | 28/313 [00:01<00:15, 18.58it/s]"
     ]
    },
    {
     "name": "stdout",
     "output_type": "stream",
     "text": [
      "Pred and label: torch.Size([32, 32]), torch.Size([32, 32])\n",
      "Pred and label: torch.Size([32, 32]), torch.Size([32, 32])\n",
      "Pred and label: torch.Size([32, 32]), torch.Size([32, 32])\n",
      "Pred and label: torch.Size([32, 32]), torch.Size([32, 32])\n"
     ]
    },
    {
     "name": "stderr",
     "output_type": "stream",
     "text": [
      " 10%|████▎                                     | 32/313 [00:01<00:15, 18.64it/s]"
     ]
    },
    {
     "name": "stdout",
     "output_type": "stream",
     "text": [
      "Pred and label: torch.Size([32, 32]), torch.Size([32, 32])\n",
      "Pred and label: torch.Size([32, 32]), torch.Size([32, 32])\n",
      "Pred and label: torch.Size([32, 32]), torch.Size([32, 32])\n",
      "Pred and label: torch.Size([32, 32]), torch.Size([32, 32])\n"
     ]
    },
    {
     "name": "stderr",
     "output_type": "stream",
     "text": [
      " 12%|████▊                                     | 36/313 [00:01<00:14, 18.71it/s]"
     ]
    },
    {
     "name": "stdout",
     "output_type": "stream",
     "text": [
      "Pred and label: torch.Size([32, 32]), torch.Size([32, 32])\n",
      "Pred and label: torch.Size([32, 32]), torch.Size([32, 32])\n",
      "Pred and label: torch.Size([32, 32]), torch.Size([32, 32])\n",
      "Pred and label: torch.Size([32, 32]), torch.Size([32, 32])\n"
     ]
    },
    {
     "name": "stderr",
     "output_type": "stream",
     "text": [
      " 13%|█████▎                                    | 40/313 [00:02<00:14, 18.70it/s]"
     ]
    },
    {
     "name": "stdout",
     "output_type": "stream",
     "text": [
      "Pred and label: torch.Size([32, 32]), torch.Size([32, 32])\n",
      "Pred and label: torch.Size([32, 32]), torch.Size([32, 32])\n",
      "Pred and label: torch.Size([32, 32]), torch.Size([32, 32])\n",
      "Pred and label: torch.Size([32, 32]), torch.Size([32, 32])\n"
     ]
    },
    {
     "name": "stderr",
     "output_type": "stream",
     "text": [
      " 14%|█████▉                                    | 44/313 [00:02<00:14, 18.70it/s]"
     ]
    },
    {
     "name": "stdout",
     "output_type": "stream",
     "text": [
      "Pred and label: torch.Size([32, 32]), torch.Size([32, 32])\n",
      "Pred and label: torch.Size([32, 32]), torch.Size([32, 32])\n",
      "Pred and label: torch.Size([32, 32]), torch.Size([32, 32])\n",
      "Pred and label: torch.Size([32, 32]), torch.Size([32, 32])\n"
     ]
    },
    {
     "name": "stderr",
     "output_type": "stream",
     "text": [
      " 15%|██████▍                                   | 48/313 [00:02<00:14, 18.68it/s]"
     ]
    },
    {
     "name": "stdout",
     "output_type": "stream",
     "text": [
      "Pred and label: torch.Size([32, 32]), torch.Size([32, 32])\n",
      "Pred and label: torch.Size([32, 32]), torch.Size([32, 32])\n",
      "Pred and label: torch.Size([32, 32]), torch.Size([32, 32])\n",
      "Pred and label: torch.Size([32, 32]), torch.Size([32, 32])\n"
     ]
    },
    {
     "name": "stderr",
     "output_type": "stream",
     "text": [
      " 17%|██████▉                                   | 52/313 [00:02<00:14, 18.50it/s]"
     ]
    },
    {
     "name": "stdout",
     "output_type": "stream",
     "text": [
      "Pred and label: torch.Size([32, 32]), torch.Size([32, 32])\n",
      "Pred and label: torch.Size([32, 32]), torch.Size([32, 32])\n",
      "Pred and label: torch.Size([32, 32]), torch.Size([32, 32])\n",
      "Pred and label: torch.Size([32, 32]), torch.Size([32, 32])\n"
     ]
    },
    {
     "name": "stderr",
     "output_type": "stream",
     "text": [
      " 18%|███████▌                                  | 56/313 [00:03<00:13, 18.64it/s]"
     ]
    },
    {
     "name": "stdout",
     "output_type": "stream",
     "text": [
      "Pred and label: torch.Size([32, 32]), torch.Size([32, 32])\n",
      "Pred and label: torch.Size([32, 32]), torch.Size([32, 32])\n",
      "Pred and label: torch.Size([32, 32]), torch.Size([32, 32])\n",
      "Pred and label: torch.Size([32, 32]), torch.Size([32, 32])\n"
     ]
    },
    {
     "name": "stderr",
     "output_type": "stream",
     "text": [
      " 19%|████████                                  | 60/313 [00:03<00:13, 18.71it/s]"
     ]
    },
    {
     "name": "stdout",
     "output_type": "stream",
     "text": [
      "Pred and label: torch.Size([32, 32]), torch.Size([32, 32])\n",
      "Pred and label: torch.Size([32, 32]), torch.Size([32, 32])\n",
      "Pred and label: torch.Size([32, 32]), torch.Size([32, 32])\n",
      "Pred and label: torch.Size([32, 32]), torch.Size([32, 32])\n"
     ]
    },
    {
     "name": "stderr",
     "output_type": "stream",
     "text": [
      " 20%|████████▌                                 | 64/313 [00:03<00:13, 18.65it/s]"
     ]
    },
    {
     "name": "stdout",
     "output_type": "stream",
     "text": [
      "Pred and label: torch.Size([32, 32]), torch.Size([32, 32])\n",
      "Pred and label: torch.Size([32, 32]), torch.Size([32, 32])\n",
      "Pred and label: torch.Size([32, 32]), torch.Size([32, 32])\n",
      "Pred and label: torch.Size([32, 32]), torch.Size([32, 32])\n"
     ]
    },
    {
     "name": "stderr",
     "output_type": "stream",
     "text": [
      " 22%|█████████                                 | 68/313 [00:03<00:13, 18.68it/s]"
     ]
    },
    {
     "name": "stdout",
     "output_type": "stream",
     "text": [
      "Pred and label: torch.Size([32, 32]), torch.Size([32, 32])\n",
      "Pred and label: torch.Size([32, 32]), torch.Size([32, 32])\n",
      "Pred and label: torch.Size([32, 32]), torch.Size([32, 32])\n",
      "Pred and label: torch.Size([32, 32]), torch.Size([32, 32])\n"
     ]
    },
    {
     "name": "stderr",
     "output_type": "stream",
     "text": [
      " 23%|█████████▋                                | 72/313 [00:03<00:12, 18.77it/s]"
     ]
    },
    {
     "name": "stdout",
     "output_type": "stream",
     "text": [
      "Pred and label: torch.Size([32, 32]), torch.Size([32, 32])\n",
      "Pred and label: torch.Size([32, 32]), torch.Size([32, 32])\n",
      "Pred and label: torch.Size([32, 32]), torch.Size([32, 32])\n",
      "Pred and label: torch.Size([32, 32]), torch.Size([32, 32])\n"
     ]
    },
    {
     "name": "stderr",
     "output_type": "stream",
     "text": [
      " 24%|██████████▏                               | 76/313 [00:04<00:12, 18.64it/s]"
     ]
    },
    {
     "name": "stdout",
     "output_type": "stream",
     "text": [
      "Pred and label: torch.Size([32, 32]), torch.Size([32, 32])\n",
      "Pred and label: torch.Size([32, 32]), torch.Size([32, 32])\n",
      "Pred and label: torch.Size([32, 32]), torch.Size([32, 32])\n",
      "Pred and label: torch.Size([32, 32]), torch.Size([32, 32])\n"
     ]
    },
    {
     "name": "stderr",
     "output_type": "stream",
     "text": [
      " 26%|██████████▋                               | 80/313 [00:04<00:12, 18.69it/s]"
     ]
    },
    {
     "name": "stdout",
     "output_type": "stream",
     "text": [
      "Pred and label: torch.Size([32, 32]), torch.Size([32, 32])\n",
      "Pred and label: torch.Size([32, 32]), torch.Size([32, 32])\n",
      "Pred and label: torch.Size([32, 32]), torch.Size([32, 32])\n",
      "Pred and label: torch.Size([32, 32]), torch.Size([32, 32])\n"
     ]
    },
    {
     "name": "stderr",
     "output_type": "stream",
     "text": [
      " 27%|███████████▎                              | 84/313 [00:04<00:12, 18.65it/s]"
     ]
    },
    {
     "name": "stdout",
     "output_type": "stream",
     "text": [
      "Pred and label: torch.Size([32, 32]), torch.Size([32, 32])\n",
      "Pred and label: torch.Size([32, 32]), torch.Size([32, 32])\n",
      "Pred and label: torch.Size([32, 32]), torch.Size([32, 32])\n",
      "Pred and label: torch.Size([32, 32]), torch.Size([32, 32])\n"
     ]
    },
    {
     "name": "stderr",
     "output_type": "stream",
     "text": [
      " 28%|███████████▊                              | 88/313 [00:04<00:12, 18.69it/s]"
     ]
    },
    {
     "name": "stdout",
     "output_type": "stream",
     "text": [
      "Pred and label: torch.Size([32, 32]), torch.Size([32, 32])\n",
      "Pred and label: torch.Size([32, 32]), torch.Size([32, 32])\n",
      "Pred and label: torch.Size([32, 32]), torch.Size([32, 32])\n",
      "Pred and label: torch.Size([32, 32]), torch.Size([32, 32])\n"
     ]
    },
    {
     "name": "stderr",
     "output_type": "stream",
     "text": [
      " 29%|████████████▎                             | 92/313 [00:04<00:11, 18.84it/s]"
     ]
    },
    {
     "name": "stdout",
     "output_type": "stream",
     "text": [
      "Pred and label: torch.Size([32, 32]), torch.Size([32, 32])\n",
      "Pred and label: torch.Size([32, 32]), torch.Size([32, 32])\n",
      "Pred and label: torch.Size([32, 32]), torch.Size([32, 32])\n",
      "Pred and label: torch.Size([32, 32]), torch.Size([32, 32])\n"
     ]
    },
    {
     "name": "stderr",
     "output_type": "stream",
     "text": [
      " 31%|████████████▉                             | 96/313 [00:05<00:11, 18.62it/s]"
     ]
    },
    {
     "name": "stdout",
     "output_type": "stream",
     "text": [
      "Pred and label: torch.Size([32, 32]), torch.Size([32, 32])\n",
      "Pred and label: torch.Size([32, 32]), torch.Size([32, 32])\n",
      "Pred and label: torch.Size([32, 32]), torch.Size([32, 32])\n",
      "Pred and label: torch.Size([32, 32]), torch.Size([32, 32])\n"
     ]
    },
    {
     "name": "stderr",
     "output_type": "stream",
     "text": [
      " 32%|█████████████                            | 100/313 [00:05<00:11, 18.55it/s]"
     ]
    },
    {
     "name": "stdout",
     "output_type": "stream",
     "text": [
      "Pred and label: torch.Size([32, 32]), torch.Size([32, 32])\n",
      "Pred and label: torch.Size([32, 32]), torch.Size([32, 32])\n",
      "Pred and label: torch.Size([32, 32]), torch.Size([32, 32])\n",
      "Pred and label: torch.Size([32, 32]), torch.Size([32, 32])\n"
     ]
    },
    {
     "name": "stderr",
     "output_type": "stream",
     "text": [
      " 33%|█████████████▌                           | 104/313 [00:05<00:11, 18.50it/s]"
     ]
    },
    {
     "name": "stdout",
     "output_type": "stream",
     "text": [
      "Pred and label: torch.Size([32, 32]), torch.Size([32, 32])\n",
      "Pred and label: torch.Size([32, 32]), torch.Size([32, 32])\n",
      "Pred and label: torch.Size([32, 32]), torch.Size([32, 32])\n",
      "Pred and label: torch.Size([32, 32]), torch.Size([32, 32])\n"
     ]
    },
    {
     "name": "stderr",
     "output_type": "stream",
     "text": [
      " 35%|██████████████▏                          | 108/313 [00:05<00:11, 18.62it/s]"
     ]
    },
    {
     "name": "stdout",
     "output_type": "stream",
     "text": [
      "Pred and label: torch.Size([32, 32]), torch.Size([32, 32])\n",
      "Pred and label: torch.Size([32, 32]), torch.Size([32, 32])\n",
      "Pred and label: torch.Size([32, 32]), torch.Size([32, 32])\n",
      "Pred and label: torch.Size([32, 32]), torch.Size([32, 32])\n"
     ]
    },
    {
     "name": "stderr",
     "output_type": "stream",
     "text": [
      " 36%|██████████████▋                          | 112/313 [00:06<00:10, 18.65it/s]"
     ]
    },
    {
     "name": "stdout",
     "output_type": "stream",
     "text": [
      "Pred and label: torch.Size([32, 32]), torch.Size([32, 32])\n",
      "Pred and label: torch.Size([32, 32]), torch.Size([32, 32])\n",
      "Pred and label: torch.Size([32, 32]), torch.Size([32, 32])\n",
      "Pred and label: torch.Size([32, 32]), torch.Size([32, 32])\n"
     ]
    },
    {
     "name": "stderr",
     "output_type": "stream",
     "text": [
      " 37%|███████████████▏                         | 116/313 [00:06<00:10, 18.34it/s]"
     ]
    },
    {
     "name": "stdout",
     "output_type": "stream",
     "text": [
      "Pred and label: torch.Size([32, 32]), torch.Size([32, 32])\n",
      "Pred and label: torch.Size([32, 32]), torch.Size([32, 32])\n",
      "Pred and label: torch.Size([32, 32]), torch.Size([32, 32])\n",
      "Pred and label: torch.Size([32, 32]), torch.Size([32, 32])\n"
     ]
    },
    {
     "name": "stderr",
     "output_type": "stream",
     "text": [
      " 38%|███████████████▋                         | 120/313 [00:06<00:10, 18.55it/s]"
     ]
    },
    {
     "name": "stdout",
     "output_type": "stream",
     "text": [
      "Pred and label: torch.Size([32, 32]), torch.Size([32, 32])\n",
      "Pred and label: torch.Size([32, 32]), torch.Size([32, 32])\n",
      "Pred and label: torch.Size([32, 32]), torch.Size([32, 32])\n",
      "Pred and label: torch.Size([32, 32]), torch.Size([32, 32])\n"
     ]
    },
    {
     "name": "stderr",
     "output_type": "stream",
     "text": [
      " 40%|████████████████▏                        | 124/313 [00:06<00:10, 18.63it/s]"
     ]
    },
    {
     "name": "stdout",
     "output_type": "stream",
     "text": [
      "Pred and label: torch.Size([32, 32]), torch.Size([32, 32])\n",
      "Pred and label: torch.Size([32, 32]), torch.Size([32, 32])\n",
      "Pred and label: torch.Size([32, 32]), torch.Size([32, 32])\n",
      "Pred and label: torch.Size([32, 32]), torch.Size([32, 32])\n"
     ]
    },
    {
     "name": "stderr",
     "output_type": "stream",
     "text": [
      " 41%|████████████████▊                        | 128/313 [00:06<00:09, 18.68it/s]"
     ]
    },
    {
     "name": "stdout",
     "output_type": "stream",
     "text": [
      "Pred and label: torch.Size([32, 32]), torch.Size([32, 32])\n",
      "Pred and label: torch.Size([32, 32]), torch.Size([32, 32])\n",
      "Pred and label: torch.Size([32, 32]), torch.Size([32, 32])\n",
      "Pred and label: torch.Size([32, 32]), torch.Size([32, 32])\n"
     ]
    },
    {
     "name": "stderr",
     "output_type": "stream",
     "text": [
      " 42%|█████████████████▎                       | 132/313 [00:07<00:09, 18.66it/s]"
     ]
    },
    {
     "name": "stdout",
     "output_type": "stream",
     "text": [
      "Pred and label: torch.Size([32, 32]), torch.Size([32, 32])\n",
      "Pred and label: torch.Size([32, 32]), torch.Size([32, 32])\n",
      "Pred and label: torch.Size([32, 32]), torch.Size([32, 32])\n",
      "Pred and label: torch.Size([32, 32]), torch.Size([32, 32])\n"
     ]
    },
    {
     "name": "stderr",
     "output_type": "stream",
     "text": [
      " 43%|█████████████████▊                       | 136/313 [00:07<00:09, 18.74it/s]"
     ]
    },
    {
     "name": "stdout",
     "output_type": "stream",
     "text": [
      "Pred and label: torch.Size([32, 32]), torch.Size([32, 32])\n",
      "Pred and label: torch.Size([32, 32]), torch.Size([32, 32])\n",
      "Pred and label: torch.Size([32, 32]), torch.Size([32, 32])\n",
      "Pred and label: torch.Size([32, 32]), torch.Size([32, 32])\n"
     ]
    },
    {
     "name": "stderr",
     "output_type": "stream",
     "text": [
      " 45%|██████████████████▎                      | 140/313 [00:07<00:09, 18.79it/s]"
     ]
    },
    {
     "name": "stdout",
     "output_type": "stream",
     "text": [
      "Pred and label: torch.Size([32, 32]), torch.Size([32, 32])\n",
      "Pred and label: torch.Size([32, 32]), torch.Size([32, 32])\n",
      "Pred and label: torch.Size([32, 32]), torch.Size([32, 32])\n",
      "Pred and label: torch.Size([32, 32]), torch.Size([32, 32])\n"
     ]
    },
    {
     "name": "stderr",
     "output_type": "stream",
     "text": [
      " 46%|██████████████████▊                      | 144/313 [00:07<00:09, 18.75it/s]"
     ]
    },
    {
     "name": "stdout",
     "output_type": "stream",
     "text": [
      "Pred and label: torch.Size([32, 32]), torch.Size([32, 32])\n",
      "Pred and label: torch.Size([32, 32]), torch.Size([32, 32])\n",
      "Pred and label: torch.Size([32, 32]), torch.Size([32, 32])\n",
      "Pred and label: torch.Size([32, 32]), torch.Size([32, 32])\n"
     ]
    },
    {
     "name": "stderr",
     "output_type": "stream",
     "text": [
      " 47%|███████████████████▍                     | 148/313 [00:07<00:08, 18.72it/s]"
     ]
    },
    {
     "name": "stdout",
     "output_type": "stream",
     "text": [
      "Pred and label: torch.Size([32, 32]), torch.Size([32, 32])\n",
      "Pred and label: torch.Size([32, 32]), torch.Size([32, 32])\n",
      "Pred and label: torch.Size([32, 32]), torch.Size([32, 32])\n",
      "Pred and label: torch.Size([32, 32]), torch.Size([32, 32])\n"
     ]
    },
    {
     "name": "stderr",
     "output_type": "stream",
     "text": [
      " 49%|███████████████████▉                     | 152/313 [00:08<00:08, 18.62it/s]"
     ]
    },
    {
     "name": "stdout",
     "output_type": "stream",
     "text": [
      "Pred and label: torch.Size([32, 32]), torch.Size([32, 32])\n",
      "Pred and label: torch.Size([32, 32]), torch.Size([32, 32])\n",
      "Pred and label: torch.Size([32, 32]), torch.Size([32, 32])\n",
      "Pred and label: torch.Size([32, 32]), torch.Size([32, 32])\n"
     ]
    },
    {
     "name": "stderr",
     "output_type": "stream",
     "text": [
      " 50%|████████████████████▍                    | 156/313 [00:08<00:08, 18.44it/s]"
     ]
    },
    {
     "name": "stdout",
     "output_type": "stream",
     "text": [
      "Pred and label: torch.Size([32, 32]), torch.Size([32, 32])\n",
      "Pred and label: torch.Size([32, 32]), torch.Size([32, 32])\n",
      "Pred and label: torch.Size([32, 32]), torch.Size([32, 32])\n",
      "Pred and label: torch.Size([32, 32]), torch.Size([32, 32])\n"
     ]
    },
    {
     "name": "stderr",
     "output_type": "stream",
     "text": [
      " 51%|████████████████████▉                    | 160/313 [00:08<00:08, 18.62it/s]"
     ]
    },
    {
     "name": "stdout",
     "output_type": "stream",
     "text": [
      "Pred and label: torch.Size([32, 32]), torch.Size([32, 32])\n",
      "Pred and label: torch.Size([32, 32]), torch.Size([32, 32])\n",
      "Pred and label: torch.Size([32, 32]), torch.Size([32, 32])\n",
      "Pred and label: torch.Size([32, 32]), torch.Size([32, 32])\n"
     ]
    },
    {
     "name": "stderr",
     "output_type": "stream",
     "text": [
      " 52%|█████████████████████▍                   | 164/313 [00:08<00:07, 18.64it/s]"
     ]
    },
    {
     "name": "stdout",
     "output_type": "stream",
     "text": [
      "Pred and label: torch.Size([32, 32]), torch.Size([32, 32])\n",
      "Pred and label: torch.Size([32, 32]), torch.Size([32, 32])\n",
      "Pred and label: torch.Size([32, 32]), torch.Size([32, 32])\n",
      "Pred and label: torch.Size([32, 32]), torch.Size([32, 32])\n"
     ]
    },
    {
     "name": "stderr",
     "output_type": "stream",
     "text": [
      " 54%|██████████████████████                   | 168/313 [00:09<00:07, 18.71it/s]"
     ]
    },
    {
     "name": "stdout",
     "output_type": "stream",
     "text": [
      "Pred and label: torch.Size([32, 32]), torch.Size([32, 32])\n",
      "Pred and label: torch.Size([32, 32]), torch.Size([32, 32])\n",
      "Pred and label: torch.Size([32, 32]), torch.Size([32, 32])\n",
      "Pred and label: torch.Size([32, 32]), torch.Size([32, 32])\n"
     ]
    },
    {
     "name": "stderr",
     "output_type": "stream",
     "text": [
      " 55%|██████████████████████▌                  | 172/313 [00:09<00:07, 18.67it/s]"
     ]
    },
    {
     "name": "stdout",
     "output_type": "stream",
     "text": [
      "Pred and label: torch.Size([32, 32]), torch.Size([32, 32])\n",
      "Pred and label: torch.Size([32, 32]), torch.Size([32, 32])\n",
      "Pred and label: torch.Size([32, 32]), torch.Size([32, 32])\n",
      "Pred and label: torch.Size([32, 32]), torch.Size([32, 32])\n"
     ]
    },
    {
     "name": "stderr",
     "output_type": "stream",
     "text": [
      " 56%|███████████████████████                  | 176/313 [00:09<00:07, 18.66it/s]"
     ]
    },
    {
     "name": "stdout",
     "output_type": "stream",
     "text": [
      "Pred and label: torch.Size([32, 32]), torch.Size([32, 32])\n",
      "Pred and label: torch.Size([32, 32]), torch.Size([32, 32])\n",
      "Pred and label: torch.Size([32, 32]), torch.Size([32, 32])\n",
      "Pred and label: torch.Size([32, 32]), torch.Size([32, 32])\n"
     ]
    },
    {
     "name": "stderr",
     "output_type": "stream",
     "text": [
      " 58%|███████████████████████▌                 | 180/313 [00:09<00:07, 18.68it/s]"
     ]
    },
    {
     "name": "stdout",
     "output_type": "stream",
     "text": [
      "Pred and label: torch.Size([32, 32]), torch.Size([32, 32])\n",
      "Pred and label: torch.Size([32, 32]), torch.Size([32, 32])\n",
      "Pred and label: torch.Size([32, 32]), torch.Size([32, 32])\n",
      "Pred and label: torch.Size([32, 32]), torch.Size([32, 32])\n"
     ]
    },
    {
     "name": "stderr",
     "output_type": "stream",
     "text": [
      " 59%|████████████████████████                 | 184/313 [00:09<00:06, 18.61it/s]"
     ]
    },
    {
     "name": "stdout",
     "output_type": "stream",
     "text": [
      "Pred and label: torch.Size([32, 32]), torch.Size([32, 32])\n",
      "Pred and label: torch.Size([32, 32]), torch.Size([32, 32])\n",
      "Pred and label: torch.Size([32, 32]), torch.Size([32, 32])\n",
      "Pred and label: torch.Size([32, 32]), torch.Size([32, 32])\n"
     ]
    },
    {
     "name": "stderr",
     "output_type": "stream",
     "text": [
      " 60%|████████████████████████▋                | 188/313 [00:10<00:06, 18.60it/s]"
     ]
    },
    {
     "name": "stdout",
     "output_type": "stream",
     "text": [
      "Pred and label: torch.Size([32, 32]), torch.Size([32, 32])\n",
      "Pred and label: torch.Size([32, 32]), torch.Size([32, 32])\n",
      "Pred and label: torch.Size([32, 32]), torch.Size([32, 32])\n",
      "Pred and label: torch.Size([32, 32]), torch.Size([32, 32])\n"
     ]
    },
    {
     "name": "stderr",
     "output_type": "stream",
     "text": [
      " 61%|█████████████████████████▏               | 192/313 [00:10<00:06, 18.60it/s]"
     ]
    },
    {
     "name": "stdout",
     "output_type": "stream",
     "text": [
      "Pred and label: torch.Size([32, 32]), torch.Size([32, 32])\n",
      "Pred and label: torch.Size([32, 32]), torch.Size([32, 32])\n",
      "Pred and label: torch.Size([32, 32]), torch.Size([32, 32])\n",
      "Pred and label: torch.Size([32, 32]), torch.Size([32, 32])\n"
     ]
    },
    {
     "name": "stderr",
     "output_type": "stream",
     "text": [
      " 63%|█████████████████████████▋               | 196/313 [00:10<00:06, 18.73it/s]"
     ]
    },
    {
     "name": "stdout",
     "output_type": "stream",
     "text": [
      "Pred and label: torch.Size([32, 32]), torch.Size([32, 32])\n",
      "Pred and label: torch.Size([32, 32]), torch.Size([32, 32])\n",
      "Pred and label: torch.Size([32, 32]), torch.Size([32, 32])\n",
      "Pred and label: torch.Size([32, 32]), torch.Size([32, 32])\n"
     ]
    },
    {
     "name": "stderr",
     "output_type": "stream",
     "text": [
      " 64%|██████████████████████████▏              | 200/313 [00:10<00:06, 18.63it/s]"
     ]
    },
    {
     "name": "stdout",
     "output_type": "stream",
     "text": [
      "Pred and label: torch.Size([32, 32]), torch.Size([32, 32])\n",
      "Pred and label: torch.Size([32, 32]), torch.Size([32, 32])\n",
      "Pred and label: torch.Size([32, 32]), torch.Size([32, 32])\n",
      "Pred and label: torch.Size([32, 32]), torch.Size([32, 32])\n"
     ]
    },
    {
     "name": "stderr",
     "output_type": "stream",
     "text": [
      " 65%|██████████████████████████▋              | 204/313 [00:10<00:05, 18.62it/s]"
     ]
    },
    {
     "name": "stdout",
     "output_type": "stream",
     "text": [
      "Pred and label: torch.Size([32, 32]), torch.Size([32, 32])\n",
      "Pred and label: torch.Size([32, 32]), torch.Size([32, 32])\n",
      "Pred and label: torch.Size([32, 32]), torch.Size([32, 32])\n",
      "Pred and label: torch.Size([32, 32]), torch.Size([32, 32])\n"
     ]
    },
    {
     "name": "stderr",
     "output_type": "stream",
     "text": [
      " 66%|███████████████████████████▏             | 208/313 [00:11<00:05, 18.53it/s]"
     ]
    },
    {
     "name": "stdout",
     "output_type": "stream",
     "text": [
      "Pred and label: torch.Size([32, 32]), torch.Size([32, 32])\n",
      "Pred and label: torch.Size([32, 32]), torch.Size([32, 32])\n",
      "Pred and label: torch.Size([32, 32]), torch.Size([32, 32])\n",
      "Pred and label: torch.Size([32, 32]), torch.Size([32, 32])\n"
     ]
    },
    {
     "name": "stderr",
     "output_type": "stream",
     "text": [
      " 68%|███████████████████████████▊             | 212/313 [00:11<00:05, 18.73it/s]"
     ]
    },
    {
     "name": "stdout",
     "output_type": "stream",
     "text": [
      "Pred and label: torch.Size([32, 32]), torch.Size([32, 32])\n",
      "Pred and label: torch.Size([32, 32]), torch.Size([32, 32])\n",
      "Pred and label: torch.Size([32, 32]), torch.Size([32, 32])\n",
      "Pred and label: torch.Size([32, 32]), torch.Size([32, 32])\n"
     ]
    },
    {
     "name": "stderr",
     "output_type": "stream",
     "text": [
      " 69%|████████████████████████████▎            | 216/313 [00:11<00:05, 18.73it/s]"
     ]
    },
    {
     "name": "stdout",
     "output_type": "stream",
     "text": [
      "Pred and label: torch.Size([32, 32]), torch.Size([32, 32])\n",
      "Pred and label: torch.Size([32, 32]), torch.Size([32, 32])\n",
      "Pred and label: torch.Size([32, 32]), torch.Size([32, 32])\n",
      "Pred and label: torch.Size([32, 32]), torch.Size([32, 32])\n"
     ]
    },
    {
     "name": "stderr",
     "output_type": "stream",
     "text": [
      " 70%|████████████████████████████▊            | 220/313 [00:11<00:04, 18.78it/s]"
     ]
    },
    {
     "name": "stdout",
     "output_type": "stream",
     "text": [
      "Pred and label: torch.Size([32, 32]), torch.Size([32, 32])\n",
      "Pred and label: torch.Size([32, 32]), torch.Size([32, 32])\n",
      "Pred and label: torch.Size([32, 32]), torch.Size([32, 32])\n",
      "Pred and label: torch.Size([32, 32]), torch.Size([32, 32])\n"
     ]
    },
    {
     "name": "stderr",
     "output_type": "stream",
     "text": [
      " 72%|█████████████████████████████▎           | 224/313 [00:12<00:04, 18.76it/s]"
     ]
    },
    {
     "name": "stdout",
     "output_type": "stream",
     "text": [
      "Pred and label: torch.Size([32, 32]), torch.Size([32, 32])\n",
      "Pred and label: torch.Size([32, 32]), torch.Size([32, 32])\n",
      "Pred and label: torch.Size([32, 32]), torch.Size([32, 32])\n",
      "Pred and label: torch.Size([32, 32]), torch.Size([32, 32])\n"
     ]
    },
    {
     "name": "stderr",
     "output_type": "stream",
     "text": [
      " 73%|█████████████████████████████▊           | 228/313 [00:12<00:04, 18.71it/s]"
     ]
    },
    {
     "name": "stdout",
     "output_type": "stream",
     "text": [
      "Pred and label: torch.Size([32, 32]), torch.Size([32, 32])\n",
      "Pred and label: torch.Size([32, 32]), torch.Size([32, 32])\n",
      "Pred and label: torch.Size([32, 32]), torch.Size([32, 32])\n",
      "Pred and label: torch.Size([32, 32]), torch.Size([32, 32])\n"
     ]
    },
    {
     "name": "stderr",
     "output_type": "stream",
     "text": [
      " 74%|██████████████████████████████▍          | 232/313 [00:12<00:04, 18.48it/s]"
     ]
    },
    {
     "name": "stdout",
     "output_type": "stream",
     "text": [
      "Pred and label: torch.Size([32, 32]), torch.Size([32, 32])\n",
      "Pred and label: torch.Size([32, 32]), torch.Size([32, 32])\n",
      "Pred and label: torch.Size([32, 32]), torch.Size([32, 32])\n",
      "Pred and label: torch.Size([32, 32]), torch.Size([32, 32])\n"
     ]
    },
    {
     "name": "stderr",
     "output_type": "stream",
     "text": [
      " 75%|██████████████████████████████▉          | 236/313 [00:12<00:04, 18.60it/s]"
     ]
    },
    {
     "name": "stdout",
     "output_type": "stream",
     "text": [
      "Pred and label: torch.Size([32, 32]), torch.Size([32, 32])\n",
      "Pred and label: torch.Size([32, 32]), torch.Size([32, 32])\n",
      "Pred and label: torch.Size([32, 32]), torch.Size([32, 32])\n",
      "Pred and label: torch.Size([32, 32]), torch.Size([32, 32])\n"
     ]
    },
    {
     "name": "stderr",
     "output_type": "stream",
     "text": [
      " 77%|███████████████████████████████▍         | 240/313 [00:12<00:03, 18.59it/s]"
     ]
    },
    {
     "name": "stdout",
     "output_type": "stream",
     "text": [
      "Pred and label: torch.Size([32, 32]), torch.Size([32, 32])\n",
      "Pred and label: torch.Size([32, 32]), torch.Size([32, 32])\n",
      "Pred and label: torch.Size([32, 32]), torch.Size([32, 32])\n",
      "Pred and label: torch.Size([32, 32]), torch.Size([32, 32])\n"
     ]
    },
    {
     "name": "stderr",
     "output_type": "stream",
     "text": [
      " 78%|███████████████████████████████▉         | 244/313 [00:13<00:03, 18.66it/s]"
     ]
    },
    {
     "name": "stdout",
     "output_type": "stream",
     "text": [
      "Pred and label: torch.Size([32, 32]), torch.Size([32, 32])\n",
      "Pred and label: torch.Size([32, 32]), torch.Size([32, 32])\n",
      "Pred and label: torch.Size([32, 32]), torch.Size([32, 32])\n",
      "Pred and label: torch.Size([32, 32]), torch.Size([32, 32])\n"
     ]
    },
    {
     "name": "stderr",
     "output_type": "stream",
     "text": [
      " 79%|████████████████████████████████▍        | 248/313 [00:13<00:03, 18.74it/s]"
     ]
    },
    {
     "name": "stdout",
     "output_type": "stream",
     "text": [
      "Pred and label: torch.Size([32, 32]), torch.Size([32, 32])\n",
      "Pred and label: torch.Size([32, 32]), torch.Size([32, 32])\n",
      "Pred and label: torch.Size([32, 32]), torch.Size([32, 32])\n",
      "Pred and label: torch.Size([32, 32]), torch.Size([32, 32])\n"
     ]
    },
    {
     "name": "stderr",
     "output_type": "stream",
     "text": [
      " 81%|█████████████████████████████████        | 252/313 [00:13<00:03, 18.79it/s]"
     ]
    },
    {
     "name": "stdout",
     "output_type": "stream",
     "text": [
      "Pred and label: torch.Size([32, 32]), torch.Size([32, 32])\n",
      "Pred and label: torch.Size([32, 32]), torch.Size([32, 32])\n",
      "Pred and label: torch.Size([32, 32]), torch.Size([32, 32])\n",
      "Pred and label: torch.Size([32, 32]), torch.Size([32, 32])\n"
     ]
    },
    {
     "name": "stderr",
     "output_type": "stream",
     "text": [
      " 82%|█████████████████████████████████▌       | 256/313 [00:13<00:03, 18.76it/s]"
     ]
    },
    {
     "name": "stdout",
     "output_type": "stream",
     "text": [
      "Pred and label: torch.Size([32, 32]), torch.Size([32, 32])\n",
      "Pred and label: torch.Size([32, 32]), torch.Size([32, 32])\n",
      "Pred and label: torch.Size([32, 32]), torch.Size([32, 32])\n",
      "Pred and label: torch.Size([32, 32]), torch.Size([32, 32])\n"
     ]
    },
    {
     "name": "stderr",
     "output_type": "stream",
     "text": [
      " 83%|██████████████████████████████████       | 260/313 [00:13<00:02, 18.73it/s]"
     ]
    },
    {
     "name": "stdout",
     "output_type": "stream",
     "text": [
      "Pred and label: torch.Size([32, 32]), torch.Size([32, 32])\n",
      "Pred and label: torch.Size([32, 32]), torch.Size([32, 32])\n",
      "Pred and label: torch.Size([32, 32]), torch.Size([32, 32])\n",
      "Pred and label: torch.Size([32, 32]), torch.Size([32, 32])\n"
     ]
    },
    {
     "name": "stderr",
     "output_type": "stream",
     "text": [
      " 84%|██████████████████████████████████▌      | 264/313 [00:14<00:02, 18.74it/s]"
     ]
    },
    {
     "name": "stdout",
     "output_type": "stream",
     "text": [
      "Pred and label: torch.Size([32, 32]), torch.Size([32, 32])\n",
      "Pred and label: torch.Size([32, 32]), torch.Size([32, 32])\n",
      "Pred and label: torch.Size([32, 32]), torch.Size([32, 32])\n",
      "Pred and label: torch.Size([32, 32]), torch.Size([32, 32])\n"
     ]
    },
    {
     "name": "stderr",
     "output_type": "stream",
     "text": [
      " 86%|███████████████████████████████████      | 268/313 [00:14<00:02, 18.44it/s]"
     ]
    },
    {
     "name": "stdout",
     "output_type": "stream",
     "text": [
      "Pred and label: torch.Size([32, 32]), torch.Size([32, 32])\n",
      "Pred and label: torch.Size([32, 32]), torch.Size([32, 32])\n",
      "Pred and label: torch.Size([32, 32]), torch.Size([32, 32])\n",
      "Pred and label: torch.Size([32, 32]), torch.Size([32, 32])\n"
     ]
    },
    {
     "name": "stderr",
     "output_type": "stream",
     "text": [
      " 87%|███████████████████████████████████▋     | 272/313 [00:14<00:02, 18.57it/s]"
     ]
    },
    {
     "name": "stdout",
     "output_type": "stream",
     "text": [
      "Pred and label: torch.Size([32, 32]), torch.Size([32, 32])\n",
      "Pred and label: torch.Size([32, 32]), torch.Size([32, 32])\n",
      "Pred and label: torch.Size([32, 32]), torch.Size([32, 32])\n",
      "Pred and label: torch.Size([32, 32]), torch.Size([32, 32])\n"
     ]
    },
    {
     "name": "stderr",
     "output_type": "stream",
     "text": [
      " 88%|████████████████████████████████████▏    | 276/313 [00:14<00:02, 18.49it/s]"
     ]
    },
    {
     "name": "stdout",
     "output_type": "stream",
     "text": [
      "Pred and label: torch.Size([32, 32]), torch.Size([32, 32])\n",
      "Pred and label: torch.Size([32, 32]), torch.Size([32, 32])\n",
      "Pred and label: torch.Size([32, 32]), torch.Size([32, 32])\n",
      "Pred and label: torch.Size([32, 32]), torch.Size([32, 32])\n"
     ]
    },
    {
     "name": "stderr",
     "output_type": "stream",
     "text": [
      " 89%|████████████████████████████████████▋    | 280/313 [00:15<00:01, 18.50it/s]"
     ]
    },
    {
     "name": "stdout",
     "output_type": "stream",
     "text": [
      "Pred and label: torch.Size([32, 32]), torch.Size([32, 32])\n",
      "Pred and label: torch.Size([32, 32]), torch.Size([32, 32])\n",
      "Pred and label: torch.Size([32, 32]), torch.Size([32, 32])\n",
      "Pred and label: torch.Size([32, 32]), torch.Size([32, 32])\n"
     ]
    },
    {
     "name": "stderr",
     "output_type": "stream",
     "text": [
      " 91%|█████████████████████████████████████▏   | 284/313 [00:15<00:01, 18.38it/s]"
     ]
    },
    {
     "name": "stdout",
     "output_type": "stream",
     "text": [
      "Pred and label: torch.Size([32, 32]), torch.Size([32, 32])\n",
      "Pred and label: torch.Size([32, 32]), torch.Size([32, 32])\n",
      "Pred and label: torch.Size([32, 32]), torch.Size([32, 32])\n",
      "Pred and label: torch.Size([32, 32]), torch.Size([32, 32])\n"
     ]
    },
    {
     "name": "stderr",
     "output_type": "stream",
     "text": [
      " 92%|█████████████████████████████████████▋   | 288/313 [00:15<00:01, 18.05it/s]"
     ]
    },
    {
     "name": "stdout",
     "output_type": "stream",
     "text": [
      "Pred and label: torch.Size([32, 32]), torch.Size([32, 32])\n",
      "Pred and label: torch.Size([32, 32]), torch.Size([32, 32])\n",
      "Pred and label: torch.Size([32, 32]), torch.Size([32, 32])\n",
      "Pred and label: torch.Size([32, 32]), torch.Size([32, 32])\n"
     ]
    },
    {
     "name": "stderr",
     "output_type": "stream",
     "text": [
      " 93%|██████████████████████████████████████▏  | 292/313 [00:15<00:01, 18.28it/s]"
     ]
    },
    {
     "name": "stdout",
     "output_type": "stream",
     "text": [
      "Pred and label: torch.Size([32, 32]), torch.Size([32, 32])\n",
      "Pred and label: torch.Size([32, 32]), torch.Size([32, 32])\n",
      "Pred and label: torch.Size([32, 32]), torch.Size([32, 32])\n",
      "Pred and label: torch.Size([32, 32]), torch.Size([32, 32])\n"
     ]
    },
    {
     "name": "stderr",
     "output_type": "stream",
     "text": [
      " 95%|██████████████████████████████████████▊  | 296/313 [00:15<00:00, 18.49it/s]"
     ]
    },
    {
     "name": "stdout",
     "output_type": "stream",
     "text": [
      "Pred and label: torch.Size([32, 32]), torch.Size([32, 32])\n",
      "Pred and label: torch.Size([32, 32]), torch.Size([32, 32])\n",
      "Pred and label: torch.Size([32, 32]), torch.Size([32, 32])\n",
      "Pred and label: torch.Size([32, 32]), torch.Size([32, 32])\n"
     ]
    },
    {
     "name": "stderr",
     "output_type": "stream",
     "text": [
      " 96%|███████████████████████████████████████▎ | 300/313 [00:16<00:00, 18.18it/s]"
     ]
    },
    {
     "name": "stdout",
     "output_type": "stream",
     "text": [
      "Pred and label: torch.Size([32, 32]), torch.Size([32, 32])\n",
      "Pred and label: torch.Size([32, 32]), torch.Size([32, 32])\n",
      "Pred and label: torch.Size([32, 32]), torch.Size([32, 32])\n",
      "Pred and label: torch.Size([32, 32]), torch.Size([32, 32])\n"
     ]
    },
    {
     "name": "stderr",
     "output_type": "stream",
     "text": [
      " 97%|███████████████████████████████████████▊ | 304/313 [00:16<00:00, 18.51it/s]"
     ]
    },
    {
     "name": "stdout",
     "output_type": "stream",
     "text": [
      "Pred and label: torch.Size([32, 32]), torch.Size([32, 32])\n",
      "Pred and label: torch.Size([32, 32]), torch.Size([32, 32])\n",
      "Pred and label: torch.Size([32, 32]), torch.Size([32, 32])\n",
      "Pred and label: torch.Size([32, 32]), torch.Size([32, 32])\n"
     ]
    },
    {
     "name": "stderr",
     "output_type": "stream",
     "text": [
      " 98%|████████████████████████████████████████▎| 308/313 [00:16<00:00, 18.81it/s]"
     ]
    },
    {
     "name": "stdout",
     "output_type": "stream",
     "text": [
      "Pred and label: torch.Size([32, 32]), torch.Size([32, 32])\n",
      "Pred and label: torch.Size([32, 32]), torch.Size([32, 32])\n",
      "Pred and label: torch.Size([32, 32]), torch.Size([32, 32])\n",
      "Pred and label: torch.Size([32, 32]), torch.Size([32, 32])\n"
     ]
    },
    {
     "name": "stderr",
     "output_type": "stream",
     "text": [
      "100%|████████████████████████████████████████▊| 312/313 [00:16<00:00, 18.81it/s]"
     ]
    },
    {
     "name": "stdout",
     "output_type": "stream",
     "text": [
      "Pred and label: torch.Size([32, 32]), torch.Size([32, 32])\n",
      "Pred and label: torch.Size([32, 32]), torch.Size([32, 32])\n",
      "Pred and label: torch.Size([32, 32]), torch.Size([32, 32])\n",
      "Pred and label: torch.Size([32, 32]), torch.Size([32, 32])\n"
     ]
    },
    {
     "name": "stderr",
     "output_type": "stream",
     "text": [
      "100%|█████████████████████████████████████████| 313/313 [00:16<00:00, 18.59it/s]"
     ]
    },
    {
     "name": "stdout",
     "output_type": "stream",
     "text": [
      "Pred and label: torch.Size([16, 32]), torch.Size([16, 32])\n",
      "\n",
      "Model Accuracy: 100%\n"
     ]
    },
    {
     "name": "stderr",
     "output_type": "stream",
     "text": [
      "\n"
     ]
    }
   ],
   "source": [
    "## for testing purpose\n",
    "#text= torch.stack([tokenizer(x)[0] for x in test_set.captions.values()]).to(device) ## [10, 32]\n",
    "#mask= torch.stack([tokenizer(x)[1] for x in test_set.captions.values()]).to(device)\n",
    "#mask= mask.repeat(1, len(mask[0])).reshape(len(mask), len(mask[0]),len(mask[0])).to(device)\n",
    "\n",
    "#image= torch.stack([x for x in test_set.image.values]\n",
    "##print(text.shape, mask.shape)\n",
    "image_stack= torch.stack([image[\"image\"] for image in test_set]).to(device)\n",
    "correct, total= 0, 0\n",
    "model.eval()\n",
    "with torch.no_grad():\n",
    "    for data in tqdm(test_dataloader):\n",
    "        _,text, mask= data[\"image\"].to(device), data[\"caption\"].to(device), data[\"mask\"].to(device)\n",
    "        \n",
    "        image_features= model.image_encoder(image_stack) ## convert to shape: [batch, emb_dim] ==> [32, 32]\n",
    "        text_features= model.text_encoder(text, mask) ## convert to shape: [len(test_set), emb_dim] ==> [32, 32]\n",
    "\n",
    "        \n",
    "        ##image_features /= image_features.norm(dim=-1, keepdim=True) ## [10000,32]\n",
    "        ##text_features /= text_features.norm(dim=-1, keepdim=True) ## [32,32]\n",
    "\n",
    "        \n",
    "        similarity= (100* text_features @ image_features.T).softmax(dim=-1) ## [32, 10000] \n",
    "        #print(similarity.shape)\n",
    "        _, indices= torch.max(similarity, 1) ## [32]\n",
    "        \n",
    "        pred= torch.stack([test_set[int(i)][\"caption\"] for i in indices]).to(device) ## [32, 32]\n",
    "        #print(pred.shape)\n",
    "        print(f\"Pred and label: {pred.shape}, {text.shape}\") \n",
    "        correct+= int(sum(torch.sum((pred==text), dim=1)//len(pred[0])))\n",
    "        \n",
    "        total+= len(text)\n",
    "\n",
    "    print(f\"\\nModel Accuracy: {100* correct//total}%\")"
   ]
  },
  {
   "cell_type": "code",
   "execution_count": 272,
   "id": "8660b593-c242-4c34-a60d-0d8e8b7166af",
   "metadata": {},
   "outputs": [
    {
     "data": {
      "text/plain": [
       "torch.Size([1, 1, 28, 28])"
      ]
     },
     "execution_count": 272,
     "metadata": {},
     "output_type": "execute_result"
    }
   ],
   "source": [
    "test_set[0][\"image\"].unsqueeze(0).shape"
   ]
  },
  {
   "cell_type": "code",
   "execution_count": 281,
   "id": "3ac8bed9-1bba-4eb7-84aa-b6561c15db6e",
   "metadata": {},
   "outputs": [
    {
     "data": {
      "text/plain": [
       "tensor(2)"
      ]
     },
     "execution_count": 281,
     "metadata": {},
     "output_type": "execute_result"
    }
   ],
   "source": [
    "a= torch.tensor([1, 0, 1]) \n",
    "b= torch.tensor([1, 0, 0])\n",
    "\n",
    "torch.sum(a==b, dim=0)"
   ]
  },
  {
   "cell_type": "code",
   "execution_count": null,
   "id": "444c8d57-7e14-43ef-85d1-ba0fa52b9b0c",
   "metadata": {},
   "outputs": [],
   "source": [
    "a= torch.tensor([1, 1,1])\n",
    "b= torch.tensor([1, 0, 1])\n",
    "\n",
    "print(a)\n",
    "print(b)\n",
    "\n",
    "sum(torch.sum(a==b, dim=0))"
   ]
  },
  {
   "cell_type": "code",
   "execution_count": 321,
   "id": "3c2a8805-08ab-474e-b09b-cb8826fbcfe4",
   "metadata": {},
   "outputs": [
    {
     "data": {
      "text/plain": [
       "(tensor([  2, 115, 104, 105, 114, 116,   3,   0,   0,   0,   0,   0,   0,   0,\n",
       "           0,   0,   0,   0,   0,   0,   0,   0,   0,   0,   0,   0,   0,   0,\n",
       "           0,   0,   0,   0], dtype=torch.int32),\n",
       " tensor([1, 1, 1, 1, 1, 1, 1, 0, 0, 0, 0, 0, 0, 0, 0, 0, 0, 0, 0, 0, 0, 0, 0, 0,\n",
       "         0, 0, 0, 0, 0, 0, 0, 0], dtype=torch.int32))"
      ]
     },
     "execution_count": 321,
     "metadata": {},
     "output_type": "execute_result"
    }
   ],
   "source": [
    "text_= \"shirt\"\n",
    "tokens, mask= tokenizer(text_)\n"
   ]
  },
  {
   "cell_type": "code",
   "execution_count": 328,
   "id": "b23392d9-a0da-44c5-90bb-c9d2237f53fc",
   "metadata": {},
   "outputs": [],
   "source": [
    "torch.cuda.empty_cache()"
   ]
  },
  {
   "cell_type": "code",
   "execution_count": 108,
   "id": "29b2f128-0e0b-4b41-98ba-d3d2a6bc872f",
   "metadata": {},
   "outputs": [
    {
     "ename": "RuntimeError",
     "evalue": "Number of dimensions of repeat dims can not be smaller than number of dimensions of tensor",
     "output_type": "error",
     "traceback": [
      "\u001b[0;31m---------------------------------------------------------------------------\u001b[0m",
      "\u001b[0;31mRuntimeError\u001b[0m                              Traceback (most recent call last)",
      "Cell \u001b[0;32mIn[108], line 2\u001b[0m\n\u001b[1;32m      1\u001b[0m text_\u001b[38;5;241m=\u001b[39m \u001b[38;5;124m\"\u001b[39m\u001b[38;5;124mshirt\u001b[39m\u001b[38;5;124m\"\u001b[39m\n\u001b[0;32m----> 2\u001b[0m mask\u001b[38;5;241m=\u001b[39m \u001b[43mmask\u001b[49m\u001b[38;5;241;43m.\u001b[39;49m\u001b[43mrepeat\u001b[49m\u001b[43m(\u001b[49m\u001b[38;5;28;43mlen\u001b[39;49m\u001b[43m(\u001b[49m\u001b[43mmask\u001b[49m\u001b[43m)\u001b[49m\u001b[43m,\u001b[49m\u001b[43m \u001b[49m\u001b[38;5;241;43m1\u001b[39;49m\u001b[43m)\u001b[49m\n\u001b[1;32m      3\u001b[0m text_, mask\u001b[38;5;241m=\u001b[39m tokenizer(text_)\n\u001b[1;32m      4\u001b[0m mask\u001b[38;5;241m=\u001b[39m mask\u001b[38;5;241m.\u001b[39munsqueeze(\u001b[38;5;241m0\u001b[39m)\n",
      "\u001b[0;31mRuntimeError\u001b[0m: Number of dimensions of repeat dims can not be smaller than number of dimensions of tensor"
     ]
    }
   ],
   "source": [
    "text_= \"shirt\"\n",
    "mask= mask.repeat(len(mask), 1)\n",
    "text_, mask= tokenizer(text_)\n",
    "mask= mask.unsqueeze(0)\n",
    "print(mask.shape)\n",
    "mask= mask.repeat(len(mask), 1)\n",
    "print(text_.unsqueeze(0).shape)\n",
    "print(mask.shape)\n",
    "text__= model.text_encoder(text__.unsqueeze(0).to(device), mask= mask.unsqueeze(0).to(device))\n",
    "text__.shape"
   ]
  },
  {
   "cell_type": "code",
   "execution_count": null,
   "id": "f32c6736-4a24-472b-8929-8a3ccbc597d9",
   "metadata": {},
   "outputs": [],
   "source": [
    "mask_= mask.unsqueeze(0).to(device)\n",
    "print(mask_.shape)\n",
    "torch.sum(mask_[:, 0], dim=1)"
   ]
  },
  {
   "cell_type": "code",
   "execution_count": 83,
   "id": "4f83740e-ac57-4566-9f7e-b8157663e19f",
   "metadata": {},
   "outputs": [
    {
     "name": "stdout",
     "output_type": "stream",
     "text": [
      "torch.Size([32, 32]) torch.Size([32, 32, 32])\n",
      "torch.Size([32, 32])\n"
     ]
    }
   ],
   "source": [
    "batch= next(iter(test_dataloader))\n",
    "\n",
    "text= batch[\"caption\"]\n",
    "mask= batch[\"mask\"]\n",
    "#text_, mask_= tokenizer(text)\n",
    "print(text.shape, mask.shape)\n",
    "\n",
    "text_= model.text_encoder(text.to(device), mask= mask.to(device))\n",
    "print(text_.shape)"
   ]
  },
  {
   "cell_type": "code",
   "execution_count": 52,
   "id": "ff3c576d-b0ad-413a-a9ea-22dcf3b15fd2",
   "metadata": {},
   "outputs": [
    {
     "name": "stderr",
     "output_type": "stream",
     "text": [
      "/tmp/ipykernel_9943/1390394696.py:2: FutureWarning: You are using `torch.load` with `weights_only=False` (the current default value), which uses the default pickle module implicitly. It is possible to construct malicious pickle data which will execute arbitrary code during unpickling (See https://github.com/pytorch/pytorch/blob/main/SECURITY.md#untrusted-models for more details). In a future release, the default value for `weights_only` will be flipped to `True`. This limits the functions that could be executed during unpickling. Arbitrary objects will no longer be allowed to be loaded via this mode unless they are explicitly allowlisted by the user via `torch.serialization.add_safe_globals`. We recommend you start setting `weights_only=True` for any use case where you don't have full control of the loaded file. Please open an issue on GitHub for any issues related to this experimental feature.\n",
      "  model.load_state_dict(torch.load(\"clip.pt\", map_location=device))\n"
     ]
    }
   ],
   "source": [
    "model = CLIP(emb_dim, vit_width, img_size, patch_size, n_channels, vit_layers, vit_heads, vocab_size, text_width, max_seq_length, text_heads, text_layers).to(device)\n",
    "model.load_state_dict(torch.load(\"clip.pt\", map_location=device))\n",
    "def retrieve_images(query):\n",
    "    query_text, query_mask = tokenizer(query)\n",
    "    query_text = query_text.unsqueeze(0).to(device)  # Add batch dimension\n",
    "    query_mask = query_mask.unsqueeze(0)\n",
    "    query_mask= query_mask.repeat(len(query_mask[0]), 1).unsqueeze(0).to(device)\n",
    "\n",
    "    \n",
    "    with torch.no_grad():\n",
    "        query_features = model.text_encoder(query_text, mask=query_mask)\n",
    "        #query_features /= query_features.norm(dim=-1, keepdim=True)\n",
    " \n",
    "    # Step 2: Encode all images in the dataset and store features\n",
    "    image_features_list = []\n",
    "    image_paths = []\n",
    " \n",
    "    #val_loader = DataLoader(val_dataset, batch_size=32, shuffle=False, num_workers=5)\n",
    "    \n",
    "    with torch.no_grad():\n",
    "        for batch in test_dataloader:\n",
    "            images = batch[\"image\"].to(device)\n",
    "            features = model.image_encoder(images)\n",
    "            #features /= features.norm(dim=-1, keepdim=True)\n",
    " \n",
    "            image_features_list.append(features)\n",
    "            # Assuming batch contains image paths or IDs\n",
    " \n",
    "    # Concatenate all image features\n",
    "    image_features = torch.cat(image_features_list, dim=0)\n",
    " \n",
    "    # Step 3: Compute similarity using the CLIP model's logic\n",
    "    similarities = (query_features @ image_features.T) * torch.exp(\n",
    "        model.temperature\n",
    "    )\n",
    "    similarities = similarities.softmax(dim=-1)\n",
    " \n",
    "    # Retrieve top 20 matches\n",
    "    _, top_indices = similarities[0].topk(5)\n",
    "    print(type(top_indices))\n",
    "    print(top_indices)\n",
    "    # Step 4: Retrieve and display top N images\n",
    "    return top_indices\n",
    "    images_to_display = []\n",
    "    for index in top_indices:\n",
    "        img_path = test_set[int(index)][\"image\"]\n",
    "        print(f\"Type: {type(img_path)}\")\n",
    "        out_img2= img_path.detach().numpy()\n",
    "        arr_ = out_img2.squeeze\n",
    "        plt.imshow(arr_)\n",
    "        plt.show()\n",
    "        #images_to_display.append(np.array(img))\n",
    "        #img.show()\n",
    "        #plt.axis(\"off\")\n",
    "        #plt.show()\n",
    "    "
   ]
  },
  {
   "cell_type": "code",
   "execution_count": 53,
   "id": "e910011b-1fb9-4dbd-92e0-5bd0148e7ca1",
   "metadata": {},
   "outputs": [
    {
     "name": "stdout",
     "output_type": "stream",
     "text": [
      "<class 'torch.Tensor'>\n",
      "tensor([ 612, 2986,  926, 8197, 5135], device='cuda:0')\n"
     ]
    }
   ],
   "source": [
    "res= retrieve_images(\"shirt\")"
   ]
  },
  {
   "cell_type": "code",
   "execution_count": 123,
   "id": "4c1f35a6-c7bd-4f95-a469-c2ed9385d569",
   "metadata": {},
   "outputs": [
    {
     "name": "stdout",
     "output_type": "stream",
     "text": [
      "<class 'torch.Tensor'>\n"
     ]
    }
   ],
   "source": [
    "for i in range(len(test_set)):\n",
    "    print(type(test_set[i][\"image\"]))\n",
    "    break"
   ]
  },
  {
   "cell_type": "code",
   "execution_count": 140,
   "id": "ab3d5d69-2f79-487e-8eab-4e8c9df31d44",
   "metadata": {},
   "outputs": [
    {
     "name": "stdout",
     "output_type": "stream",
     "text": [
      "tensor([6120, 4251, 1357, 2059,  684], device='cuda:0')\n"
     ]
    }
   ],
   "source": [
    "print(res)"
   ]
  },
  {
   "cell_type": "code",
   "execution_count": 54,
   "id": "ec62ea0d-cd32-47bc-82fa-a6269a2ccd22",
   "metadata": {},
   "outputs": [
    {
     "data": {
      "image/png": "[encoded data removed]",
      "text/plain": [
       "<Figure size 640x480 with 1 Axes>"
      ]
     },
     "metadata": {},
     "output_type": "display_data"
    },
    {
     "data": {
      "image/png": "[encoded data removed]",
      "text/plain": [
       "<Figure size 640x480 with 1 Axes>"
      ]
     },
     "metadata": {},
     "output_type": "display_data"
    },
    {
     "data": {
      "image/png": "[encoded data removed]",
      "text/plain": [
       "<Figure size 640x480 with 1 Axes>"
      ]
     },
     "metadata": {},
     "output_type": "display_data"
    },
    {
     "data": {
      "image/png": "[encoded data removed]",
      "text/plain": [
       "<Figure size 640x480 with 1 Axes>"
      ]
     },
     "metadata": {},
     "output_type": "display_data"
    },
    {
     "data": {
      "image/png": "[encoded data removed]",
      "text/plain": [
       "<Figure size 640x480 with 1 Axes>"
      ]
     },
     "metadata": {},
     "output_type": "display_data"
    }
   ],
   "source": [
    "for i in res:\n",
    "    image_= test_set[int(i)][\"image\"].permute(1, 2, 0).numpy()\n",
    "    plt.imshow(image_)\n",
    "    plt.axis(\"off\")\n",
    "    plt.show()\n",
    "    "
   ]
  },
  {
   "cell_type": "code",
   "execution_count": 73,
   "id": "abd37aeb-690c-4505-85ca-a5e2c0bd9ef9",
   "metadata": {},
   "outputs": [
    {
     "name": "stderr",
     "output_type": "stream",
     "text": [
      "/tmp/ipykernel_9943/2220428050.py:2: FutureWarning: You are using `torch.load` with `weights_only=False` (the current default value), which uses the default pickle module implicitly. It is possible to construct malicious pickle data which will execute arbitrary code during unpickling (See https://github.com/pytorch/pytorch/blob/main/SECURITY.md#untrusted-models for more details). In a future release, the default value for `weights_only` will be flipped to `True`. This limits the functions that could be executed during unpickling. Arbitrary objects will no longer be allowed to be loaded via this mode unless they are explicitly allowlisted by the user via `torch.serialization.add_safe_globals`. We recommend you start setting `weights_only=True` for any use case where you don't have full control of the loaded file. Please open an issue on GitHub for any issues related to this experimental feature.\n",
      "  model.load_state_dict(torch.load(\"clip.pt\", map_location=device))\n"
     ]
    }
   ],
   "source": [
    "model = CLIP(emb_dim, vit_width, img_size, patch_size, n_channels, vit_layers, vit_heads, vocab_size, text_width, max_seq_length, text_heads, text_layers).to(device)\n",
    "model.load_state_dict(torch.load(\"clip.pt\", map_location=device))\n",
    "\n",
    "def top_products(query):\n",
    "    query_text, query_mask = tokenizer(query)\n",
    "    query_text = query_text.unsqueeze(0).to(device)  # Add batch dimension\n",
    "    query_mask = query_mask.unsqueeze(0)\n",
    "    query_mask= query_mask.repeat(len(query_mask[0]), 1).unsqueeze(0).to(device)\n",
    "\n",
    "    model.eval()\n",
    "    with torch.no_grad():\n",
    "        text_encoded= model.text_encoder(query_text, query_mask)\n",
    "\n",
    "        ## get the image \n",
    "        image_features= torch.cat([batch[\"image\"] for batch in test_dataloader], dim=0).to(device)\n",
    "        image_features= model.image_encoder(image_features)\n",
    "\n",
    "        \n",
    "\n",
    "        similarity= (text_encoded@ image_features.T)*torch.exp(model.temperature)\n",
    "        similarity= similarity.softmax(dim=-1)\n",
    "\n",
    "        _, top_indices= similarity[0].topk(5)\n",
    "\n",
    "        return top_indices"
   ]
  },
  {
   "cell_type": "code",
   "execution_count": 77,
   "id": "7116f7ad-44d8-4c5d-a8f0-683dc178604e",
   "metadata": {},
   "outputs": [
    {
     "name": "stdout",
     "output_type": "stream",
     "text": [
      "tensor([8499, 2230, 2867, 9840, 2907], device='cuda:0')\n"
     ]
    },
    {
     "data": {
      "image/png": "[encoded data removed]",
      "text/plain": [
       "<Figure size 640x480 with 1 Axes>"
      ]
     },
     "metadata": {},
     "output_type": "display_data"
    },
    {
     "data": {
      "image/png": "[encoded data removed]",
      "text/plain": [
       "<Figure size 640x480 with 1 Axes>"
      ]
     },
     "metadata": {},
     "output_type": "display_data"
    },
    {
     "data": {
      "image/png": "[encoded data removed]",
      "text/plain": [
       "<Figure size 640x480 with 1 Axes>"
      ]
     },
     "metadata": {},
     "output_type": "display_data"
    },
    {
     "data": {
      "image/png": "[encoded data removed]",
      "text/plain": [
       "<Figure size 640x480 with 1 Axes>"
      ]
     },
     "metadata": {},
     "output_type": "display_data"
    },
    {
     "data": {
      "image/png": "[encoded data removed]",
      "text/plain": [
       "<Figure size 640x480 with 1 Axes>"
      ]
     },
     "metadata": {},
     "output_type": "display_data"
    }
   ],
   "source": [
    "res= top_products(\"shirt\")\n",
    "\n",
    "print(res)\n",
    "for i in res:\n",
    "    image_= test_set[int(i)][\"image\"].permute(1, 2, 0).numpy()\n",
    "    plt.imshow(image_)\n",
    "    plt.axis(\"off\")\n",
    "    plt.show()"
   ]
  },
  {
   "cell_type": "code",
   "execution_count": 67,
   "id": "a0010802-4e7c-4ed5-b13e-a333bbf2cf8f",
   "metadata": {},
   "outputs": [
    {
     "data": {
      "text/plain": [
       "torch.Size([10000, 32])"
      ]
     },
     "execution_count": 67,
     "metadata": {},
     "output_type": "execute_result"
    }
   ],
   "source": [
    "image_features= []\n",
    "\n",
    "for batch in test_dataloader:\n",
    "    images= batch[\"image\"].to(device)\n",
    "    features= model.image_encoder(images)\n",
    "    image_features.append(features)\n",
    "\n",
    "image_features= torch.cat(image_features, dim=0)\n",
    "image_features.shape"
   ]
  },
  {
   "cell_type": "code",
   "execution_count": 70,
   "id": "f10924f0-ab94-4404-8528-2144ddd022bb",
   "metadata": {},
   "outputs": [
    {
     "data": {
      "text/plain": [
       "torch.Size([10000, 32])"
      ]
     },
     "execution_count": 70,
     "metadata": {},
     "output_type": "execute_result"
    }
   ],
   "source": [
    "image_features= torch.cat([batch[\"image\"] for batch in test_dataloader], dim=0)\n",
    "image_features= model.image_encoder(image_features.to(device))\n",
    "image_features.shape"
   ]
  },
  {
   "cell_type": "code",
   "execution_count": null,
   "id": "f0a066bd-66e0-4deb-9a9c-6c682aca2634",
   "metadata": {},
   "outputs": [],
   "source": []
  }
 ],
 "metadata": {
  "kernelspec": {
   "display_name": "Python 3 (ipykernel)",
   "language": "python",
   "name": "python3"
  },
  "language_info": {
   "codemirror_mode": {
    "name": "ipython",
    "version": 3
   },
   "file_extension": ".py",
   "mimetype": "text/x-python",
   "name": "python",
   "nbconvert_exporter": "python",
   "pygments_lexer": "ipython3",
   "version": "3.10.12"
  }
 },
 "nbformat": 4,
 "nbformat_minor": 5
}
